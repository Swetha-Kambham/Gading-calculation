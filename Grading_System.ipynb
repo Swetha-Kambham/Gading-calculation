{
  "nbformat": 4,
  "nbformat_minor": 0,
  "metadata": {
    "colab": {
      "name": "Grading_System",
      "provenance": [],
      "collapsed_sections": [],
      "toc_visible": true
    },
    "kernelspec": {
      "name": "python3",
      "display_name": "Python 3"
    }
  },
  "cells": [
    {
      "cell_type": "code",
      "metadata": {
        "id": "RxRPFdbQ2tyo",
        "colab_type": "code",
        "colab": {}
      },
      "source": [
        "import numpy as np\n",
        "import pandas as pd\n",
        "import matplotlib.pyplot as plt\n",
        "%matplotlib inline"
      ],
      "execution_count": 0,
      "outputs": []
    },
    {
      "cell_type": "markdown",
      "metadata": {
        "id": "hNzYIC7G6U_S",
        "colab_type": "text"
      },
      "source": [
        "Reading excel file into a DataFrame object."
      ]
    },
    {
      "cell_type": "code",
      "metadata": {
        "id": "B-WDnX212_Bd",
        "colab_type": "code",
        "outputId": "83f7f3c9-9be4-4957-f579-1bdad3e65c16",
        "colab": {
          "base_uri": "https://localhost:8080/",
          "height": 69
        }
      },
      "source": [
        "path=\"/content/drive/My Drive/RESULTS_Data.xlsx\"\n",
        "dataset=pd.read_excel(path)\n",
        "dataset.head(10)\n",
        "print(dataset.columns.values)"
      ],
      "execution_count": 0,
      "outputs": [
        {
          "output_type": "stream",
          "text": [
            "['S.NO.' 'ID' 'Subject Code' 'CREDITS' 'MID1 (20M)' 'MID2 (20M)'\n",
            " 'MID3 (20M)' 'BOM (40M)' 'EST CBT' 'EST PBT' 'ET' 'TOTAL' 'PH'\n",
            " 'GRAND TOTAL' 'FINAL GRADE']\n"
          ],
          "name": "stdout"
        }
      ]
    },
    {
      "cell_type": "markdown",
      "metadata": {
        "id": "sH4vKFBV63K7",
        "colab_type": "text"
      },
      "source": [
        "here some columns names are not in proper way EX:GRAND TOTAL column have the Space between them we replace space with the underscore.Take some empty dictionary for storing the new column values"
      ]
    },
    {
      "cell_type": "code",
      "metadata": {
        "id": "mZ8bi_ko7PsE",
        "colab_type": "code",
        "outputId": "b3d38bcc-0280-465a-88f3-698dcf0ea922",
        "colab": {
          "base_uri": "https://localhost:8080/",
          "height": 54
        }
      },
      "source": [
        "new_columns={}\n",
        "for i in dataset.columns.values:\n",
        "  new_columns[i]=i.replace(' ','_')\n",
        "\n",
        "print(new_columns)"
      ],
      "execution_count": 0,
      "outputs": [
        {
          "output_type": "stream",
          "text": [
            "{'S.NO.': 'S.NO.', 'ID': 'ID', 'Subject Code': 'Subject_Code', 'CREDITS': 'CREDITS', 'MID1 (20M)': 'MID1_(20M)', 'MID2 (20M)': 'MID2_(20M)', 'MID3 (20M)': 'MID3_(20M)', 'BOM (40M)': 'BOM_(40M)', 'EST CBT': 'EST_CBT', 'EST PBT': 'EST_PBT', 'ET': 'ET', 'TOTAL': 'TOTAL', 'PH': 'PH', 'GRAND TOTAL': 'GRAND_TOTAL', 'FINAL GRADE': 'FINAL_GRADE'}\n"
          ],
          "name": "stdout"
        }
      ]
    },
    {
      "cell_type": "markdown",
      "metadata": {
        "id": "Dig1CjNT9HEO",
        "colab_type": "text"
      },
      "source": [
        "Rename the columns in the Dictionary"
      ]
    },
    {
      "cell_type": "code",
      "metadata": {
        "id": "Wn0-qDCR9LEt",
        "colab_type": "code",
        "outputId": "b02128fc-8185-45b4-c4ed-075aefb66ad1",
        "colab": {
          "base_uri": "https://localhost:8080/",
          "height": 383
        }
      },
      "source": [
        "dataset.rename(columns=new_columns,inplace=True)\n",
        "dataset.head(10)"
      ],
      "execution_count": 0,
      "outputs": [
        {
          "output_type": "execute_result",
          "data": {
            "text/html": [
              "<div>\n",
              "<style scoped>\n",
              "    .dataframe tbody tr th:only-of-type {\n",
              "        vertical-align: middle;\n",
              "    }\n",
              "\n",
              "    .dataframe tbody tr th {\n",
              "        vertical-align: top;\n",
              "    }\n",
              "\n",
              "    .dataframe thead th {\n",
              "        text-align: right;\n",
              "    }\n",
              "</style>\n",
              "<table border=\"1\" class=\"dataframe\">\n",
              "  <thead>\n",
              "    <tr style=\"text-align: right;\">\n",
              "      <th></th>\n",
              "      <th>S.NO.</th>\n",
              "      <th>ID</th>\n",
              "      <th>Subject_Code</th>\n",
              "      <th>CREDITS</th>\n",
              "      <th>MID1_(20M)</th>\n",
              "      <th>MID2_(20M)</th>\n",
              "      <th>MID3_(20M)</th>\n",
              "      <th>BOM_(40M)</th>\n",
              "      <th>EST_CBT</th>\n",
              "      <th>EST_PBT</th>\n",
              "      <th>ET</th>\n",
              "      <th>TOTAL</th>\n",
              "      <th>PH</th>\n",
              "      <th>GRAND_TOTAL</th>\n",
              "      <th>FINAL_GRADE</th>\n",
              "    </tr>\n",
              "  </thead>\n",
              "  <tbody>\n",
              "    <tr>\n",
              "      <th>0</th>\n",
              "      <td>1</td>\n",
              "      <td>RKV0001</td>\n",
              "      <td>SUBJ01</td>\n",
              "      <td>4</td>\n",
              "      <td>19</td>\n",
              "      <td>16</td>\n",
              "      <td>11.5</td>\n",
              "      <td>35</td>\n",
              "      <td>10</td>\n",
              "      <td>33</td>\n",
              "      <td>43</td>\n",
              "      <td>78</td>\n",
              "      <td>-</td>\n",
              "      <td>78</td>\n",
              "      <td>A</td>\n",
              "    </tr>\n",
              "    <tr>\n",
              "      <th>1</th>\n",
              "      <td>2</td>\n",
              "      <td>RKV0002</td>\n",
              "      <td>SUBJ01</td>\n",
              "      <td>4</td>\n",
              "      <td>17</td>\n",
              "      <td>15</td>\n",
              "      <td>14.5</td>\n",
              "      <td>32</td>\n",
              "      <td>8</td>\n",
              "      <td>23</td>\n",
              "      <td>31</td>\n",
              "      <td>63</td>\n",
              "      <td>-</td>\n",
              "      <td>63</td>\n",
              "      <td>B</td>\n",
              "    </tr>\n",
              "    <tr>\n",
              "      <th>2</th>\n",
              "      <td>3</td>\n",
              "      <td>RKV0003</td>\n",
              "      <td>SUBJ01</td>\n",
              "      <td>4</td>\n",
              "      <td>15</td>\n",
              "      <td>17</td>\n",
              "      <td>13</td>\n",
              "      <td>32</td>\n",
              "      <td>7</td>\n",
              "      <td>35</td>\n",
              "      <td>42</td>\n",
              "      <td>74</td>\n",
              "      <td>-</td>\n",
              "      <td>74</td>\n",
              "      <td>B</td>\n",
              "    </tr>\n",
              "    <tr>\n",
              "      <th>3</th>\n",
              "      <td>4</td>\n",
              "      <td>RKV0004</td>\n",
              "      <td>SUBJ01</td>\n",
              "      <td>4</td>\n",
              "      <td>15</td>\n",
              "      <td>14</td>\n",
              "      <td>15</td>\n",
              "      <td>30</td>\n",
              "      <td>8</td>\n",
              "      <td>35</td>\n",
              "      <td>43</td>\n",
              "      <td>73</td>\n",
              "      <td>-</td>\n",
              "      <td>73</td>\n",
              "      <td>B</td>\n",
              "    </tr>\n",
              "    <tr>\n",
              "      <th>4</th>\n",
              "      <td>5</td>\n",
              "      <td>RKV0005</td>\n",
              "      <td>SUBJ01</td>\n",
              "      <td>4</td>\n",
              "      <td>18</td>\n",
              "      <td>14</td>\n",
              "      <td>13</td>\n",
              "      <td>32</td>\n",
              "      <td>13</td>\n",
              "      <td>31</td>\n",
              "      <td>44</td>\n",
              "      <td>76</td>\n",
              "      <td>-</td>\n",
              "      <td>76</td>\n",
              "      <td>A</td>\n",
              "    </tr>\n",
              "    <tr>\n",
              "      <th>5</th>\n",
              "      <td>6</td>\n",
              "      <td>RKV0006</td>\n",
              "      <td>SUBJ01</td>\n",
              "      <td>4</td>\n",
              "      <td>15.5</td>\n",
              "      <td>13</td>\n",
              "      <td>14</td>\n",
              "      <td>29.5</td>\n",
              "      <td>3</td>\n",
              "      <td>30</td>\n",
              "      <td>33</td>\n",
              "      <td>62.5</td>\n",
              "      <td>-</td>\n",
              "      <td>63</td>\n",
              "      <td>B</td>\n",
              "    </tr>\n",
              "    <tr>\n",
              "      <th>6</th>\n",
              "      <td>7</td>\n",
              "      <td>RKV0007</td>\n",
              "      <td>SUBJ01</td>\n",
              "      <td>4</td>\n",
              "      <td>16</td>\n",
              "      <td>14</td>\n",
              "      <td>12</td>\n",
              "      <td>30</td>\n",
              "      <td>10</td>\n",
              "      <td>22</td>\n",
              "      <td>32</td>\n",
              "      <td>62</td>\n",
              "      <td>-</td>\n",
              "      <td>62</td>\n",
              "      <td>C</td>\n",
              "    </tr>\n",
              "    <tr>\n",
              "      <th>7</th>\n",
              "      <td>8</td>\n",
              "      <td>RKV0008</td>\n",
              "      <td>SUBJ01</td>\n",
              "      <td>4</td>\n",
              "      <td>17</td>\n",
              "      <td>9</td>\n",
              "      <td>7</td>\n",
              "      <td>26</td>\n",
              "      <td>8</td>\n",
              "      <td>22</td>\n",
              "      <td>30</td>\n",
              "      <td>56</td>\n",
              "      <td>-</td>\n",
              "      <td>56</td>\n",
              "      <td>C</td>\n",
              "    </tr>\n",
              "    <tr>\n",
              "      <th>8</th>\n",
              "      <td>9</td>\n",
              "      <td>RKV0009</td>\n",
              "      <td>SUBJ01</td>\n",
              "      <td>4</td>\n",
              "      <td>18</td>\n",
              "      <td>15</td>\n",
              "      <td>14.5</td>\n",
              "      <td>33</td>\n",
              "      <td>12</td>\n",
              "      <td>27</td>\n",
              "      <td>39</td>\n",
              "      <td>72</td>\n",
              "      <td>-</td>\n",
              "      <td>72</td>\n",
              "      <td>B</td>\n",
              "    </tr>\n",
              "    <tr>\n",
              "      <th>9</th>\n",
              "      <td>10</td>\n",
              "      <td>RKV0010</td>\n",
              "      <td>SUBJ01</td>\n",
              "      <td>4</td>\n",
              "      <td>AB</td>\n",
              "      <td>14</td>\n",
              "      <td>9</td>\n",
              "      <td>23</td>\n",
              "      <td>10</td>\n",
              "      <td>34</td>\n",
              "      <td>44</td>\n",
              "      <td>67</td>\n",
              "      <td>-</td>\n",
              "      <td>67</td>\n",
              "      <td>B</td>\n",
              "    </tr>\n",
              "  </tbody>\n",
              "</table>\n",
              "</div>"
            ],
            "text/plain": [
              "   S.NO.       ID Subject_Code  CREDITS  ... TOTAL PH GRAND_TOTAL FINAL_GRADE\n",
              "0      1  RKV0001       SUBJ01        4  ...    78  -          78           A\n",
              "1      2  RKV0002       SUBJ01        4  ...    63  -          63           B\n",
              "2      3  RKV0003       SUBJ01        4  ...    74  -          74           B\n",
              "3      4  RKV0004       SUBJ01        4  ...    73  -          73           B\n",
              "4      5  RKV0005       SUBJ01        4  ...    76  -          76           A\n",
              "5      6  RKV0006       SUBJ01        4  ...  62.5  -          63           B\n",
              "6      7  RKV0007       SUBJ01        4  ...    62  -          62           C\n",
              "7      8  RKV0008       SUBJ01        4  ...    56  -          56           C\n",
              "8      9  RKV0009       SUBJ01        4  ...    72  -          72           B\n",
              "9     10  RKV0010       SUBJ01        4  ...    67  -          67           B\n",
              "\n",
              "[10 rows x 15 columns]"
            ]
          },
          "metadata": {
            "tags": []
          },
          "execution_count": 34
        }
      ]
    },
    {
      "cell_type": "code",
      "metadata": {
        "id": "lgjoCQV_-VLv",
        "colab_type": "code",
        "outputId": "f14b4e35-5b1a-4273-91fd-1f8ed7aac3c5",
        "colab": {
          "base_uri": "https://localhost:8080/",
          "height": 34
        }
      },
      "source": [
        "len(dataset)"
      ],
      "execution_count": 0,
      "outputs": [
        {
          "output_type": "execute_result",
          "data": {
            "text/plain": [
              "1107"
            ]
          },
          "metadata": {
            "tags": []
          },
          "execution_count": 35
        }
      ]
    },
    {
      "cell_type": "markdown",
      "metadata": {
        "id": "_xIAxj_p5r9t",
        "colab_type": "text"
      },
      "source": [
        "omit students who are abset to exams,who got remidial and who are tried for malpractices from the datset."
      ]
    },
    {
      "cell_type": "code",
      "metadata": {
        "id": "fNzAkMEW5p6i",
        "colab_type": "code",
        "outputId": "b171a80b-d234-452e-a106-f64bfb668748",
        "colab": {
          "base_uri": "https://localhost:8080/",
          "height": 173
        }
      },
      "source": [
        "new_dataset=dataset[(dataset[\"GRAND_TOTAL\"]!='AB') & (dataset[\"GRAND_TOTAL\"]!='MP') & (dataset[\"GRAND_TOTAL\"]!='WH')].copy(deep=True)\n",
        "print(new_dataset.head())\n",
        "print(len(new_dataset))"
      ],
      "execution_count": 0,
      "outputs": [
        {
          "output_type": "stream",
          "text": [
            "   S.NO.       ID Subject_Code  CREDITS  ... TOTAL PH GRAND_TOTAL FINAL_GRADE\n",
            "0      1  RKV0001       SUBJ01        4  ...    78  -          78           A\n",
            "1      2  RKV0002       SUBJ01        4  ...    63  -          63           B\n",
            "2      3  RKV0003       SUBJ01        4  ...    74  -          74           B\n",
            "3      4  RKV0004       SUBJ01        4  ...    73  -          73           B\n",
            "4      5  RKV0005       SUBJ01        4  ...    76  -          76           A\n",
            "\n",
            "[5 rows x 15 columns]\n",
            "1097\n"
          ],
          "name": "stdout"
        }
      ]
    },
    {
      "cell_type": "markdown",
      "metadata": {
        "id": "Hx1TuVmIHFrs",
        "colab_type": "text"
      },
      "source": [
        "Sorting the DataFrame by Total Marks"
      ]
    },
    {
      "cell_type": "code",
      "metadata": {
        "id": "m3OnWJYs4Fac",
        "colab_type": "code",
        "outputId": "684fec36-b1a2-4cb7-ab0c-015ebfed3fa8",
        "colab": {
          "base_uri": "https://localhost:8080/",
          "height": 226
        }
      },
      "source": [
        "new_dataset.sort_values(by='GRAND_TOTAL',ascending=False,inplace=True)\n",
        "new_dataset.head()"
      ],
      "execution_count": 0,
      "outputs": [
        {
          "output_type": "execute_result",
          "data": {
            "text/html": [
              "<div>\n",
              "<style scoped>\n",
              "    .dataframe tbody tr th:only-of-type {\n",
              "        vertical-align: middle;\n",
              "    }\n",
              "\n",
              "    .dataframe tbody tr th {\n",
              "        vertical-align: top;\n",
              "    }\n",
              "\n",
              "    .dataframe thead th {\n",
              "        text-align: right;\n",
              "    }\n",
              "</style>\n",
              "<table border=\"1\" class=\"dataframe\">\n",
              "  <thead>\n",
              "    <tr style=\"text-align: right;\">\n",
              "      <th></th>\n",
              "      <th>S.NO.</th>\n",
              "      <th>ID</th>\n",
              "      <th>Subject_Code</th>\n",
              "      <th>CREDITS</th>\n",
              "      <th>MID1_(20M)</th>\n",
              "      <th>MID2_(20M)</th>\n",
              "      <th>MID3_(20M)</th>\n",
              "      <th>BOM_(40M)</th>\n",
              "      <th>EST_CBT</th>\n",
              "      <th>EST_PBT</th>\n",
              "      <th>ET</th>\n",
              "      <th>TOTAL</th>\n",
              "      <th>PH</th>\n",
              "      <th>GRAND_TOTAL</th>\n",
              "      <th>FINAL_GRADE</th>\n",
              "    </tr>\n",
              "  </thead>\n",
              "  <tbody>\n",
              "    <tr>\n",
              "      <th>929</th>\n",
              "      <td>930</td>\n",
              "      <td>RKV0930</td>\n",
              "      <td>SUBJ01</td>\n",
              "      <td>4</td>\n",
              "      <td>20</td>\n",
              "      <td>18</td>\n",
              "      <td>19</td>\n",
              "      <td>39</td>\n",
              "      <td>14</td>\n",
              "      <td>42</td>\n",
              "      <td>56</td>\n",
              "      <td>95</td>\n",
              "      <td>-</td>\n",
              "      <td>95</td>\n",
              "      <td>EX</td>\n",
              "    </tr>\n",
              "    <tr>\n",
              "      <th>391</th>\n",
              "      <td>392</td>\n",
              "      <td>RKV0392</td>\n",
              "      <td>SUBJ01</td>\n",
              "      <td>4</td>\n",
              "      <td>19</td>\n",
              "      <td>17</td>\n",
              "      <td>19</td>\n",
              "      <td>38</td>\n",
              "      <td>17</td>\n",
              "      <td>39</td>\n",
              "      <td>56</td>\n",
              "      <td>94</td>\n",
              "      <td>-</td>\n",
              "      <td>94</td>\n",
              "      <td>EX</td>\n",
              "    </tr>\n",
              "    <tr>\n",
              "      <th>890</th>\n",
              "      <td>891</td>\n",
              "      <td>RKV0891</td>\n",
              "      <td>SUBJ01</td>\n",
              "      <td>4</td>\n",
              "      <td>20</td>\n",
              "      <td>17</td>\n",
              "      <td>19</td>\n",
              "      <td>39</td>\n",
              "      <td>15</td>\n",
              "      <td>38</td>\n",
              "      <td>53</td>\n",
              "      <td>92</td>\n",
              "      <td>-</td>\n",
              "      <td>92</td>\n",
              "      <td>EX</td>\n",
              "    </tr>\n",
              "    <tr>\n",
              "      <th>926</th>\n",
              "      <td>927</td>\n",
              "      <td>RKV0927</td>\n",
              "      <td>SUBJ01</td>\n",
              "      <td>4</td>\n",
              "      <td>19</td>\n",
              "      <td>18</td>\n",
              "      <td>19</td>\n",
              "      <td>38</td>\n",
              "      <td>14</td>\n",
              "      <td>40</td>\n",
              "      <td>54</td>\n",
              "      <td>92</td>\n",
              "      <td>-</td>\n",
              "      <td>92</td>\n",
              "      <td>EX</td>\n",
              "    </tr>\n",
              "    <tr>\n",
              "      <th>33</th>\n",
              "      <td>34</td>\n",
              "      <td>RKV0034</td>\n",
              "      <td>SUBJ01</td>\n",
              "      <td>4</td>\n",
              "      <td>20</td>\n",
              "      <td>18</td>\n",
              "      <td>18</td>\n",
              "      <td>38</td>\n",
              "      <td>14</td>\n",
              "      <td>40</td>\n",
              "      <td>54</td>\n",
              "      <td>92</td>\n",
              "      <td>-</td>\n",
              "      <td>92</td>\n",
              "      <td>EX</td>\n",
              "    </tr>\n",
              "  </tbody>\n",
              "</table>\n",
              "</div>"
            ],
            "text/plain": [
              "     S.NO.       ID Subject_Code  CREDITS  ... TOTAL PH GRAND_TOTAL FINAL_GRADE\n",
              "929    930  RKV0930       SUBJ01        4  ...    95  -          95          EX\n",
              "391    392  RKV0392       SUBJ01        4  ...    94  -          94          EX\n",
              "890    891  RKV0891       SUBJ01        4  ...    92  -          92          EX\n",
              "926    927  RKV0927       SUBJ01        4  ...    92  -          92          EX\n",
              "33      34  RKV0034       SUBJ01        4  ...    92  -          92          EX\n",
              "\n",
              "[5 rows x 15 columns]"
            ]
          },
          "metadata": {
            "tags": []
          },
          "execution_count": 48
        }
      ]
    },
    {
      "cell_type": "markdown",
      "metadata": {
        "id": "2JbE-xUiI1i8",
        "colab_type": "text"
      },
      "source": [
        "indexes will be shuffeled after sorting applay indexing"
      ]
    },
    {
      "cell_type": "code",
      "metadata": {
        "id": "QYKzPezgHaGE",
        "colab_type": "code",
        "colab": {}
      },
      "source": [
        "new_dataset.reset_index(0,inplace=True)"
      ],
      "execution_count": 0,
      "outputs": []
    },
    {
      "cell_type": "code",
      "metadata": {
        "id": "1sz5LAvmJNju",
        "colab_type": "code",
        "outputId": "aeb9960c-9d72-457e-b89f-6f8e7b998d81",
        "colab": {
          "base_uri": "https://localhost:8080/",
          "height": 132
        }
      },
      "source": [
        "new_dataset.head(2)"
      ],
      "execution_count": 0,
      "outputs": [
        {
          "output_type": "execute_result",
          "data": {
            "text/html": [
              "<div>\n",
              "<style scoped>\n",
              "    .dataframe tbody tr th:only-of-type {\n",
              "        vertical-align: middle;\n",
              "    }\n",
              "\n",
              "    .dataframe tbody tr th {\n",
              "        vertical-align: top;\n",
              "    }\n",
              "\n",
              "    .dataframe thead th {\n",
              "        text-align: right;\n",
              "    }\n",
              "</style>\n",
              "<table border=\"1\" class=\"dataframe\">\n",
              "  <thead>\n",
              "    <tr style=\"text-align: right;\">\n",
              "      <th></th>\n",
              "      <th>index</th>\n",
              "      <th>S.NO.</th>\n",
              "      <th>ID</th>\n",
              "      <th>Subject_Code</th>\n",
              "      <th>CREDITS</th>\n",
              "      <th>MID1_(20M)</th>\n",
              "      <th>MID2_(20M)</th>\n",
              "      <th>MID3_(20M)</th>\n",
              "      <th>BOM_(40M)</th>\n",
              "      <th>EST_CBT</th>\n",
              "      <th>EST_PBT</th>\n",
              "      <th>ET</th>\n",
              "      <th>TOTAL</th>\n",
              "      <th>PH</th>\n",
              "      <th>GRAND_TOTAL</th>\n",
              "      <th>FINAL_GRADE</th>\n",
              "    </tr>\n",
              "  </thead>\n",
              "  <tbody>\n",
              "    <tr>\n",
              "      <th>0</th>\n",
              "      <td>929</td>\n",
              "      <td>930</td>\n",
              "      <td>RKV0930</td>\n",
              "      <td>SUBJ01</td>\n",
              "      <td>4</td>\n",
              "      <td>20</td>\n",
              "      <td>18</td>\n",
              "      <td>19</td>\n",
              "      <td>39</td>\n",
              "      <td>14</td>\n",
              "      <td>42</td>\n",
              "      <td>56</td>\n",
              "      <td>95</td>\n",
              "      <td>-</td>\n",
              "      <td>95</td>\n",
              "      <td>EX</td>\n",
              "    </tr>\n",
              "    <tr>\n",
              "      <th>1</th>\n",
              "      <td>391</td>\n",
              "      <td>392</td>\n",
              "      <td>RKV0392</td>\n",
              "      <td>SUBJ01</td>\n",
              "      <td>4</td>\n",
              "      <td>19</td>\n",
              "      <td>17</td>\n",
              "      <td>19</td>\n",
              "      <td>38</td>\n",
              "      <td>17</td>\n",
              "      <td>39</td>\n",
              "      <td>56</td>\n",
              "      <td>94</td>\n",
              "      <td>-</td>\n",
              "      <td>94</td>\n",
              "      <td>EX</td>\n",
              "    </tr>\n",
              "  </tbody>\n",
              "</table>\n",
              "</div>"
            ],
            "text/plain": [
              "   index  S.NO.       ID Subject_Code  ...  TOTAL PH GRAND_TOTAL FINAL_GRADE\n",
              "0    929    930  RKV0930       SUBJ01  ...     95  -          95          EX\n",
              "1    391    392  RKV0392       SUBJ01  ...     94  -          94          EX\n",
              "\n",
              "[2 rows x 16 columns]"
            ]
          },
          "metadata": {
            "tags": []
          },
          "execution_count": 51
        }
      ]
    },
    {
      "cell_type": "code",
      "metadata": {
        "id": "AvLemj9CJZaN",
        "colab_type": "code",
        "outputId": "8052c31b-07b1-42dd-df74-05888f3cc8d1",
        "colab": {
          "base_uri": "https://localhost:8080/",
          "height": 34
        }
      },
      "source": [
        "from math import ceil\n",
        "def cutoff(marks):\n",
        "  cut={}\n",
        "  n=len(marks)\n",
        "  cut[\"EX\"]=min(90,max(80,marks[ceil(5*n/100)-1]))\n",
        "  cut[\"A\"]=min(80,max(70,marks[ceil(20*n/100)-1]))\n",
        "  cut[\"B\"]=min(70,max(60,marks[ceil(45*n/100)-1]))\n",
        "  cut[\"C\"]=min(60,max(50,marks[ceil(15*n/100)-1]))\n",
        "  cut[\"D\"]=min(50,max(40,marks[ceil(5*n/100)-1]))\n",
        "  return cut\n",
        "cut1=cutoff(new_dataset['GRAND_TOTAL'])\n",
        "print(cut1)"
      ],
      "execution_count": 0,
      "outputs": [
        {
          "output_type": "stream",
          "text": [
            "{'EX': 85, 'A': 77, 'B': 69, 'C': 60, 'D': 50}\n"
          ],
          "name": "stdout"
        }
      ]
    },
    {
      "cell_type": "markdown",
      "metadata": {
        "id": "V0isFKMoa4Xk",
        "colab_type": "text"
      },
      "source": [
        "Now we got the cutoff, we need to read each record of marks data and assign corresponding Grade as per the cutoff.\n",
        "For which we will use 'apply()' method by passing the cutoff dictionary as additonal parameter."
      ]
    },
    {
      "cell_type": "code",
      "metadata": {
        "id": "DvZQr_qwJYgi",
        "colab_type": "code",
        "outputId": "ea3decd1-9115-4c57-e9a7-9a34fced8f9d",
        "colab": {
          "base_uri": "https://localhost:8080/",
          "height": 416
        }
      },
      "source": [
        "def AssignGrade(record,cutoff): # Given the Cutoff Dictionary, containing the Grade and its cutoff calculated through \n",
        "                                #function getCutOff()\n",
        "    if record['GRAND_TOTAL'] == 'AB':\n",
        "        return 'AB'\n",
        "    elif record['GRAND_TOTAL'] == 'MP':\n",
        "        return 'MP'\n",
        "    elif record['GRAND_TOTAL'] == 'WH':\n",
        "        return 'WH'\n",
        "    elif record['GRAND_TOTAL'] >= cutoff['EX']:\n",
        "        return 'EX'\n",
        "    elif record['GRAND_TOTAL'] >= cutoff['A']:\n",
        "        return 'A'\n",
        "    elif record['GRAND_TOTAL'] >= cutoff['B']:\n",
        "        return 'B'\n",
        "    elif record['GRAND_TOTAL'] >= cutoff['C']:\n",
        "        return 'C'\n",
        "    elif record['GRAND_TOTAL'] >= cutoff['D']:\n",
        "        return 'D'\n",
        "    else:\n",
        "        return 'R'\n",
        "dataset['New_Grade']=dataset.apply(AssignGrade,axis='columns',args=(cut1,))\n",
        "\n",
        "print(dataset.head(20))"
      ],
      "execution_count": 0,
      "outputs": [
        {
          "output_type": "stream",
          "text": [
            "    S.NO.       ID Subject_Code  CREDITS  ... PH GRAND_TOTAL FINAL_GRADE New_Grade\n",
            "0       1  RKV0001       SUBJ01        4  ...  -          78           A         A\n",
            "1       2  RKV0002       SUBJ01        4  ...  -          63           B         C\n",
            "2       3  RKV0003       SUBJ01        4  ...  -          74           B         B\n",
            "3       4  RKV0004       SUBJ01        4  ...  -          73           B         B\n",
            "4       5  RKV0005       SUBJ01        4  ...  -          76           A         B\n",
            "5       6  RKV0006       SUBJ01        4  ...  -          63           B         C\n",
            "6       7  RKV0007       SUBJ01        4  ...  -          62           C         C\n",
            "7       8  RKV0008       SUBJ01        4  ...  -          56           C         D\n",
            "8       9  RKV0009       SUBJ01        4  ...  -          72           B         B\n",
            "9      10  RKV0010       SUBJ01        4  ...  -          67           B         C\n",
            "10     11  RKV0011       SUBJ01        4  ...  -          61           C         C\n",
            "11     12  RKV0012       SUBJ01        4  ...  -          79           A         A\n",
            "12     13  RKV0013       SUBJ01        4  ...  -          AB          AB        AB\n",
            "13     14  RKV0014       SUBJ01        4  ...  -          66           B         C\n",
            "14     15  RKV0015       SUBJ01        4  ...  -          87          EX        EX\n",
            "15     16  RKV0016       SUBJ01        4  ...  -          77           A         A\n",
            "16     17  RKV0017       SUBJ01        4  ...  -          61           C         C\n",
            "17     18  RKV0018       SUBJ01        4  ...  -          68           B         C\n",
            "18     19  RKV0019       SUBJ01        4  ...  -          73           B         B\n",
            "19     20  RKV0020       SUBJ01        4  ...  -          63           B         C\n",
            "\n",
            "[20 rows x 16 columns]\n"
          ],
          "name": "stdout"
        }
      ]
    },
    {
      "cell_type": "markdown",
      "metadata": {
        "id": "OIRFndsvcw_L",
        "colab_type": "text"
      },
      "source": [
        "Writing the resultant DataFrame to the file"
      ]
    },
    {
      "cell_type": "code",
      "metadata": {
        "id": "LYm5wcIUcDAW",
        "colab_type": "code",
        "colab": {}
      },
      "source": [
        "dataset.to_excel(\"/content/drive/My Drive/MYRESULT_Data.xlsx\")"
      ],
      "execution_count": 0,
      "outputs": []
    },
    {
      "cell_type": "code",
      "metadata": {
        "id": "QDxtr2k3dOKU",
        "colab_type": "code",
        "colab": {}
      },
      "source": [
        ""
      ],
      "execution_count": 0,
      "outputs": []
    },
    {
      "cell_type": "markdown",
      "metadata": {
        "id": "NdbtdzHBe6-x",
        "colab_type": "text"
      },
      "source": [
        "to excel files we use the pd.Excelfiles(path)\n",
        "dataframe.sheets"
      ]
    }
  ]
}